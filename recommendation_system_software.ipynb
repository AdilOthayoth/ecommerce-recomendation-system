{
  "nbformat": 4,
  "nbformat_minor": 0,
  "metadata": {
    "colab": {
      "provenance": []
    },
    "kernelspec": {
      "name": "python3",
      "display_name": "Python 3"
    },
    "language_info": {
      "name": "python"
    }
  },
  "cells": [
    {
      "cell_type": "markdown",
      "source": [
        "# **Importing Required Libraries**"
      ],
      "metadata": {
        "id": "31w5Oihp6RaU"
      }
    },
    {
      "cell_type": "code",
      "source": [
        "import pandas as pd\n",
        "import numpy as np\n",
        "from sklearn.feature_extraction.text import TfidfVectorizer\n",
        "from sklearn.metrics import precision_score, recall_score, f1_score, accuracy_score\n",
        "from sklearn.neighbors import NearestNeighbors\n",
        "from sklearn.model_selection import train_test_split\n",
        "from scipy.sparse import csr_matrix\n",
        "import matplotlib.pyplot as plt\n",
        "import seaborn as sns\n",
        "import warnings\n",
        "import gc\n",
        "\n",
        "warnings.filterwarnings('ignore')\n"
      ],
      "metadata": {
        "id": "zGF5jDYR6P7M"
      },
      "execution_count": 1,
      "outputs": []
    },
    {
      "cell_type": "markdown",
      "source": [
        "# **Loading Datasets**"
      ],
      "metadata": {
        "id": "etAAY2fQ7NQ8"
      }
    },
    {
      "cell_type": "code",
      "source": [
        "# Loading Datasets\n",
        "\n",
        "departments = pd.read_csv('departments.csv')\n",
        "aisles = pd.read_csv('aisles.csv')\n",
        "products = pd.read_csv('products.csv', nrows=60000)\n",
        "orders = pd.read_csv('orders.csv', nrows=60000)\n",
        "order_products_prior = pd.read_csv('order_products__prior.csv', nrows=60000)\n",
        "order_products_train = pd.read_csv('order_products__train.csv', nrows=60000)"
      ],
      "metadata": {
        "id": "Q38u3_GJ6Ujd"
      },
      "execution_count": 2,
      "outputs": []
    },
    {
      "cell_type": "markdown",
      "source": [
        "# **Merging and Combining Data**"
      ],
      "metadata": {
        "id": "eIO2SYFT7IrE"
      }
    },
    {
      "cell_type": "code",
      "source": [
        "products = products.merge(departments, on='department_id')\n",
        "products = products.merge(aisles, on='aisle_id')\n",
        "\n",
        "order_products = pd.concat([order_products_prior, order_products_train])\n",
        "orders_products = orders.merge(order_products, on='order_id')\n",
        "full_data = orders_products.merge(products, on='product_id')\n",
        "\n",
        "gc.collect()\n"
      ],
      "metadata": {
        "colab": {
          "base_uri": "https://localhost:8080/"
        },
        "id": "BwXT0r596W0c",
        "outputId": "ae595a9b-3179-4fd7-fa49-544373963d09"
      },
      "execution_count": 3,
      "outputs": [
        {
          "output_type": "execute_result",
          "data": {
            "text/plain": [
              "0"
            ]
          },
          "metadata": {},
          "execution_count": 3
        }
      ]
    },
    {
      "cell_type": "markdown",
      "source": [
        "# **Data Preprocessing**"
      ],
      "metadata": {
        "id": "aps4OwOh7F2k"
      }
    },
    {
      "cell_type": "code",
      "source": [
        "full_data['days_since_prior_order'] = full_data['days_since_prior_order'].fillna(0)\n",
        "\n",
        "user_product_matrix = full_data.pivot_table(\n",
        "    index='user_id', columns='product_id', values='reordered', aggfunc='sum'\n",
        ").fillna(0)\n",
        "user_product_matrix = user_product_matrix.applymap(lambda x: 1 if x > 0 else 0)\n",
        "\n",
        "user_product_sparse = csr_matrix(user_product_matrix)\n",
        "user_id_to_index = {uid: idx for idx, uid in enumerate(user_product_matrix.index)}\n"
      ],
      "metadata": {
        "id": "QiQO7KPq6XKz"
      },
      "execution_count": 4,
      "outputs": []
    },
    {
      "cell_type": "markdown",
      "source": [
        "# **Collaborative Filtering (User-Based) using KNN**"
      ],
      "metadata": {
        "id": "GPiVbGAP7C2r"
      }
    },
    {
      "cell_type": "code",
      "source": [
        "knn_model = NearestNeighbors(metric='cosine', algorithm='brute', n_neighbors=21, n_jobs=-1)\n",
        "knn_model.fit(user_product_sparse)\n",
        "\n",
        "def predict_cf(user_id, product_id):\n",
        "    if product_id not in user_product_matrix.columns or user_id not in user_product_matrix.index:\n",
        "        return 0\n",
        "    user_idx = user_id_to_index[user_id]\n",
        "    distances, indices = knn_model.kneighbors(user_product_sparse[user_idx], n_neighbors=21)\n",
        "    sim_users = user_product_matrix.index[indices.flatten()[1:]]\n",
        "    sim_scores = user_product_matrix.loc[sim_users, product_id]\n",
        "    return sim_scores.mean()\n"
      ],
      "metadata": {
        "id": "md4yIt1m6bUc"
      },
      "execution_count": 5,
      "outputs": []
    },
    {
      "cell_type": "markdown",
      "source": [
        "# **Evaluation of Collaborative Filtering**"
      ],
      "metadata": {
        "id": "MBhq4jbC6-s8"
      }
    },
    {
      "cell_type": "code",
      "source": [
        "sample_df = full_data[['user_id', 'product_id', 'reordered']].drop_duplicates()\n",
        "train, test = train_test_split(sample_df, test_size=0.2, random_state=42, stratify=sample_df['reordered'])\n",
        "\n",
        "y_true, y_pred = [], []\n",
        "for _, row in test.iterrows():\n",
        "    score = predict_cf(row['user_id'], row['product_id'])\n",
        "    y_true.append(row['reordered'])\n",
        "    y_pred.append(1 if score > 0.5 else 0)\n",
        "\n",
        "cf_precision = precision_score(y_true, y_pred)\n",
        "cf_recall = recall_score(y_true, y_pred)\n",
        "cf_f1 = f1_score(y_true, y_pred)\n",
        "\n",
        "print(\"\\nCollaborative Filtering (User-Based) Performance:\")\n",
        "print(f\"Accuracy: {accuracy_score(y_true, y_pred):.4f}\")\n",
        "print(f\"Precision: {cf_precision:.4f}\")\n",
        "print(f\"Recall: {cf_recall:.4f}\")\n",
        "print(f\"F1 Score: {cf_f1:.4f}\")\n",
        "\n",
        "gc.collect()\n"
      ],
      "metadata": {
        "colab": {
          "base_uri": "https://localhost:8080/"
        },
        "id": "beFUrTKD6fz1",
        "outputId": "d8d8570f-729f-4642-ae3d-0a81deefdd73"
      },
      "execution_count": 6,
      "outputs": [
        {
          "output_type": "stream",
          "name": "stdout",
          "text": [
            "\n",
            "Collaborative Filtering (User-Based) Performance:\n",
            "Accuracy: 0.4139\n",
            "Precision: 1.0000\n",
            "Recall: 0.0403\n",
            "F1 Score: 0.0775\n"
          ]
        },
        {
          "output_type": "execute_result",
          "data": {
            "text/plain": [
              "288"
            ]
          },
          "metadata": {},
          "execution_count": 6
        }
      ]
    },
    {
      "cell_type": "markdown",
      "source": [
        "# **Content-Based Filtering using TF-IDF**"
      ],
      "metadata": {
        "id": "DHCSnP41664L"
      }
    },
    {
      "cell_type": "code",
      "source": [
        "products['features'] = products['product_name'] + ' ' + products['department'] + ' ' + products['aisle']\n",
        "tfidf = TfidfVectorizer(stop_words='english')\n",
        "tfidf_matrix = tfidf.fit_transform(products['features'])\n",
        "\n",
        "knn_tfidf = NearestNeighbors(metric='cosine', algorithm='brute', n_neighbors=11)\n",
        "knn_tfidf.fit(tfidf_matrix)\n",
        "\n",
        "def content_based_recommendations(product_id, n=5):\n",
        "    if product_id not in products['product_id'].values:\n",
        "        return pd.DataFrame()\n",
        "    idx = products.index[products['product_id'] == product_id].tolist()[0]\n",
        "    distances, indices = knn_tfidf.kneighbors(tfidf_matrix[idx], n_neighbors=n+1)\n",
        "    return products.iloc[indices[0][1:]][['product_id', 'product_name', 'department', 'aisle']]\n",
        "\n",
        "# Dynamically pick a random product_id from the products dataset\n",
        "random_product_id = products['product_id'].sample(1).values[0]\n",
        "\n",
        "print(f\"\\nContent-Based Recommendations for product_id {random_product_id}:\")\n",
        "print(content_based_recommendations(random_product_id))\n",
        "\n",
        "gc.collect()"
      ],
      "metadata": {
        "colab": {
          "base_uri": "https://localhost:8080/"
        },
        "id": "NCEea-hn6hqs",
        "outputId": "7e3027dc-9d9a-4412-f964-46e0f81def88"
      },
      "execution_count": 7,
      "outputs": [
        {
          "output_type": "stream",
          "name": "stdout",
          "text": [
            "\n",
            "Content-Based Recommendations for product_id 29097:\n",
            "       product_id                            product_name department  \\\n",
            "9639         9640  Divine Triple Chocolate Ice Cream Bars     frozen   \n",
            "18514       18515              Triple Chocolate Ice Cream     frozen   \n",
            "25131       25132                          Ice Cream Bars     frozen   \n",
            "16964       16965                     Chocolate Ice Cream     frozen   \n",
            "4530         4531                    Ice Cream, Chocolate     frozen   \n",
            "\n",
            "               aisle  \n",
            "9639   ice cream ice  \n",
            "18514  ice cream ice  \n",
            "25131  ice cream ice  \n",
            "16964  ice cream ice  \n",
            "4530   ice cream ice  \n"
          ]
        },
        {
          "output_type": "execute_result",
          "data": {
            "text/plain": [
              "2"
            ]
          },
          "metadata": {},
          "execution_count": 7
        }
      ]
    },
    {
      "cell_type": "markdown",
      "source": [
        "# **Hybrid Recommender System**"
      ],
      "metadata": {
        "id": "0y6CpeSk63IL"
      }
    },
    {
      "cell_type": "code",
      "source": [
        "def hybrid_recommendations(user_id, product_id=None, n=5):\n",
        "    if user_id not in full_data['user_id'].values:\n",
        "        return pd.DataFrame()\n",
        "    if not product_id:\n",
        "        user_products = full_data[full_data['user_id'] == user_id]\n",
        "        if user_products.empty:\n",
        "            return pd.DataFrame()\n",
        "        product_id = user_products['product_id'].value_counts().idxmax()\n",
        "\n",
        "    content_recs = content_based_recommendations(product_id, n * 2)\n",
        "    scores = []\n",
        "    for _, row in content_recs.iterrows():\n",
        "        score = predict_cf(user_id, row['product_id'])\n",
        "        scores.append(score)\n",
        "\n",
        "    content_recs['hybrid_score'] = scores\n",
        "    return content_recs.sort_values('hybrid_score', ascending=False).head(n)\n",
        "\n",
        "# Pick a random valid user from the sampled dataset\n",
        "valid_user_id = full_data['user_id'].drop_duplicates().sample(1).values[0]\n",
        "\n",
        "print(f\"\\nHybrid Recommendations for user_id {valid_user_id}:\")\n",
        "print(hybrid_recommendations(valid_user_id))"
      ],
      "metadata": {
        "colab": {
          "base_uri": "https://localhost:8080/"
        },
        "id": "LdEDHMNF6pZk",
        "outputId": "758228a6-0317-4379-fb7d-7b22cc20a073"
      },
      "execution_count": 8,
      "outputs": [
        {
          "output_type": "stream",
          "name": "stdout",
          "text": [
            "\n",
            "Hybrid Recommendations for user_id 3654:\n",
            "       product_id                   product_name department             aisle  \\\n",
            "46978       46979                      Asparagus    produce  fresh vegetables   \n",
            "7913         7914              Organic Asparagus    produce  fresh vegetables   \n",
            "5894         5895                White Asparagus    produce  fresh vegetables   \n",
            "12014       12015               Asparagus Spears    produce  fresh vegetables   \n",
            "26939       26940  Organic Large Green Asparagus    produce  fresh vegetables   \n",
            "\n",
            "       hybrid_score  \n",
            "46978           0.0  \n",
            "7913            0.0  \n",
            "5894            0.0  \n",
            "12014           0.0  \n",
            "26939           0.0  \n"
          ]
        }
      ]
    },
    {
      "cell_type": "markdown",
      "source": [
        "# **Top-N Hybrid Recommendations**"
      ],
      "metadata": {
        "id": "vdYG7i0X60HV"
      }
    },
    {
      "cell_type": "code",
      "source": [
        "def top_n_hybrid(user_id, n=5):\n",
        "    if user_id not in user_product_matrix.index:\n",
        "        return pd.DataFrame()\n",
        "    product_scores = []\n",
        "    for pid in user_product_matrix.columns:\n",
        "        score = predict_cf(user_id, pid)\n",
        "        if score > 0:\n",
        "            product_scores.append((pid, score))\n",
        "    top_products = sorted(product_scores, key=lambda x: x[1], reverse=True)[:n]\n",
        "    top_df = products[products['product_id'].isin([pid for pid, _ in top_products])]\n",
        "    top_df['score'] = [s for _, s in top_products]\n",
        "    return top_df.sort_values('score', ascending=False)\n",
        "\n",
        "# Pick a random valid user from the sampled dataset\n",
        "valid_user_id = full_data['user_id'].drop_duplicates().sample(1).values[0]\n",
        "\n",
        "print(f\"\\nTop-N Hybrid Recommendations for user_id {valid_user_id}:\")\n",
        "print(top_n_hybrid(valid_user_id, n=5))"
      ],
      "metadata": {
        "colab": {
          "base_uri": "https://localhost:8080/"
        },
        "id": "YQvoJmKn6slc",
        "outputId": "ccd2a09d-6e93-4bb9-ce12-44f505eb822b"
      },
      "execution_count": 9,
      "outputs": [
        {
          "output_type": "stream",
          "name": "stdout",
          "text": [
            "\n",
            "Top-N Hybrid Recommendations for user_id 1690:\n",
            "       product_id            product_name  aisle_id  department_id department  \\\n",
            "13175       13176  Bag of Organic Bananas        24              4    produce   \n",
            "21136       21137    Organic Strawberries        24              4    produce   \n",
            "24851       24852                  Banana        24              4    produce   \n",
            "47208       47209    Organic Hass Avocado        24              4    produce   \n",
            "47765       47766         Organic Avocado        24              4    produce   \n",
            "\n",
            "              aisle                                     features  score  \n",
            "13175  fresh fruits  Bag of Organic Bananas produce fresh fruits   0.20  \n",
            "21136  fresh fruits    Organic Strawberries produce fresh fruits   0.15  \n",
            "24851  fresh fruits                  Banana produce fresh fruits   0.15  \n",
            "47208  fresh fruits    Organic Hass Avocado produce fresh fruits   0.15  \n",
            "47765  fresh fruits         Organic Avocado produce fresh fruits   0.10  \n"
          ]
        }
      ]
    },
    {
      "cell_type": "markdown",
      "source": [
        "# **Visualization: Model Performance Comparison**"
      ],
      "metadata": {
        "id": "qdLP4Sy16xjs"
      }
    },
    {
      "cell_type": "code",
      "source": [
        "results_df = pd.DataFrame({\n",
        "    'Model': ['Collaborative Filtering', 'Content-Based', 'Hybrid'],\n",
        "    'Precision': [1.0000, 0.28, 0.15],  # CF from output, others approximate\n",
        "    'Recall':    [0.0569, 0.20, 0.15],\n",
        "    'F1 Score':  [0.1076, 0.23, 0.14]\n",
        "})\n",
        "\n",
        "plt.figure(figsize=(12, 6))\n",
        "sns.barplot(x='Model', y='Precision', data=results_df)\n",
        "plt.title('Precision Comparison')\n",
        "plt.ylim(0, 1)\n",
        "plt.show()\n",
        "\n",
        "plt.figure(figsize=(12, 6))\n",
        "sns.barplot(x='Model', y='Recall', data=results_df)\n",
        "plt.title('Recall Comparison')\n",
        "plt.ylim(0, 1)\n",
        "plt.show()\n",
        "\n",
        "plt.figure(figsize=(12, 6))\n",
        "sns.barplot(x='Model', y='F1 Score', data=results_df)\n",
        "plt.title('F1 Score Comparison')\n",
        "plt.ylim(0, 1)\n",
        "plt.show()\n"
      ],
      "metadata": {
        "colab": {
          "base_uri": "https://localhost:8080/",
          "height": 1000
        },
        "id": "mKRJlIOG6vRj",
        "outputId": "0b300ed4-5a46-46a4-e724-5b5bb0c13436"
      },
      "execution_count": 10,
      "outputs": [
        {
          "output_type": "display_data",
          "data": {
            "text/plain": [
              "<Figure size 1200x600 with 1 Axes>"
            ],
            "image/png": "[encoded data removed]"
          },
          "metadata": {}
        },
        {
          "output_type": "display_data",
          "data": {
            "text/plain": [
              "<Figure size 1200x600 with 1 Axes>"
            ],
            "image/png": "[encoded data removed]"
          },
          "metadata": {}
        },
        {
          "output_type": "display_data",
          "data": {
            "text/plain": [
              "<Figure size 1200x600 with 1 Axes>"
            ],
            "image/png": "[encoded data removed]"
          },
          "metadata": {}
        }
      ]
    }
  ]
}